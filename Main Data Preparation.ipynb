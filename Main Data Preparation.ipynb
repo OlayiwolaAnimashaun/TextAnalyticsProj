{
 "cells": [
  {
   "cell_type": "code",
   "execution_count": 1,
   "id": "95a887cf",
   "metadata": {},
   "outputs": [
    {
     "name": "stderr",
     "output_type": "stream",
     "text": [
      "[nltk_data] Downloading package stopwords to\n",
      "[nltk_data]     C:\\Users\\fuad9\\AppData\\Roaming\\nltk_data...\n",
      "[nltk_data]   Package stopwords is already up-to-date!\n"
     ]
    },
    {
     "data": {
      "text/plain": [
       "True"
      ]
     },
     "execution_count": 1,
     "metadata": {},
     "output_type": "execute_result"
    }
   ],
   "source": [
    "import re, pandas as pd, numpy as np, requests, bs4, matplotlib.pyplot as plt\n",
    "import wordcloud, nltk\n",
    "from collections import Counter\n",
    "import warnings\n",
    "warnings.filterwarnings('ignore')\n",
    "from sklearn.tree import DecisionTreeClassifier\n",
    "from sklearn.model_selection import cross_validate\n",
    "from sklearn.metrics import recall_score, precision_score, accuracy_score\n",
    "import wordcloud\n",
    "import text_mining_utils as tm\n",
    "from sklearn.cluster import KMeans\n",
    "from sklearn.cluster import AgglomerativeClustering \n",
    "from sklearn.feature_selection import f_classif\n",
    "\n",
    "\n",
    "nltk.download('stopwords')"
   ]
  },
  {
   "cell_type": "code",
   "execution_count": 2,
   "id": "27e3d62b",
   "metadata": {},
   "outputs": [
    {
     "data": {
      "text/html": [
       "<div>\n",
       "<style scoped>\n",
       "    .dataframe tbody tr th:only-of-type {\n",
       "        vertical-align: middle;\n",
       "    }\n",
       "\n",
       "    .dataframe tbody tr th {\n",
       "        vertical-align: top;\n",
       "    }\n",
       "\n",
       "    .dataframe thead th {\n",
       "        text-align: right;\n",
       "    }\n",
       "</style>\n",
       "<table border=\"1\" class=\"dataframe\">\n",
       "  <thead>\n",
       "    <tr style=\"text-align: right;\">\n",
       "      <th></th>\n",
       "      <th>Article</th>\n",
       "      <th>Class</th>\n",
       "    </tr>\n",
       "  </thead>\n",
       "  <tbody>\n",
       "    <tr>\n",
       "      <th>0</th>\n",
       "      <td>\\n        \\n        NBA's Top 100 Players for ...</td>\n",
       "      <td>NBA</td>\n",
       "    </tr>\n",
       "    <tr>\n",
       "      <th>1</th>\n",
       "      <td>Rare ComicsTop 50 Marvel Comics Of 2015Top 50 ...</td>\n",
       "      <td>Marvel</td>\n",
       "    </tr>\n",
       "    <tr>\n",
       "      <th>2</th>\n",
       "      <td>LibraryLibraryComics and Graphic Novels\\nColum...</td>\n",
       "      <td>DC</td>\n",
       "    </tr>\n",
       "    <tr>\n",
       "      <th>3</th>\n",
       "      <td>NBA Top 100 Players 2021-2022 | Ranking The Be...</td>\n",
       "      <td>NBA</td>\n",
       "    </tr>\n",
       "    <tr>\n",
       "      <th>4</th>\n",
       "      <td>Best DC Comics of 2019Comic Book HeraldA Comic...</td>\n",
       "      <td>DC</td>\n",
       "    </tr>\n",
       "    <tr>\n",
       "      <th>...</th>\n",
       "      <td>...</td>\n",
       "      <td>...</td>\n",
       "    </tr>\n",
       "    <tr>\n",
       "      <th>85</th>\n",
       "      <td>screenrant.comThe Best DC Comics Miniseries of...</td>\n",
       "      <td>DC</td>\n",
       "    </tr>\n",
       "    <tr>\n",
       "      <th>86</th>\n",
       "      <td>30 Best Marvel Comics (2022 UPDATED) Definitiv...</td>\n",
       "      <td>Marvel</td>\n",
       "    </tr>\n",
       "    <tr>\n",
       "      <th>87</th>\n",
       "      <td>Stephen Curry Ranks as NBA’s Most-Liked Player...</td>\n",
       "      <td>NBA</td>\n",
       "    </tr>\n",
       "    <tr>\n",
       "      <th>88</th>\n",
       "      <td>Best DC Comics storiesGamesRadar+ is supported...</td>\n",
       "      <td>DC</td>\n",
       "    </tr>\n",
       "    <tr>\n",
       "      <th>89</th>\n",
       "      <td>Weird Science Marvel ComicsMarvel Comics Best ...</td>\n",
       "      <td>Marvel</td>\n",
       "    </tr>\n",
       "  </tbody>\n",
       "</table>\n",
       "<p>90 rows × 2 columns</p>\n",
       "</div>"
      ],
      "text/plain": [
       "                                              Article   Class\n",
       "0   \\n        \\n        NBA's Top 100 Players for ...     NBA\n",
       "1   Rare ComicsTop 50 Marvel Comics Of 2015Top 50 ...  Marvel\n",
       "2   LibraryLibraryComics and Graphic Novels\\nColum...      DC\n",
       "3   NBA Top 100 Players 2021-2022 | Ranking The Be...     NBA\n",
       "4   Best DC Comics of 2019Comic Book HeraldA Comic...      DC\n",
       "..                                                ...     ...\n",
       "85  screenrant.comThe Best DC Comics Miniseries of...      DC\n",
       "86  30 Best Marvel Comics (2022 UPDATED) Definitiv...  Marvel\n",
       "87  Stephen Curry Ranks as NBA’s Most-Liked Player...     NBA\n",
       "88  Best DC Comics storiesGamesRadar+ is supported...      DC\n",
       "89  Weird Science Marvel ComicsMarvel Comics Best ...  Marvel\n",
       "\n",
       "[90 rows x 2 columns]"
      ]
     },
     "execution_count": 2,
     "metadata": {},
     "output_type": "execute_result"
    }
   ],
   "source": [
    "corpus = pd.read_csv('corpus.csv')\n",
    "corpus"
   ]
  },
  {
   "cell_type": "code",
   "execution_count": 3,
   "id": "ff2603e0",
   "metadata": {},
   "outputs": [],
   "source": [
    "dt_clf = DecisionTreeClassifier(random_state=1)\n",
    "y = corpus.Class"
   ]
  },
  {
   "cell_type": "markdown",
   "id": "0cfd4e85",
   "metadata": {},
   "source": [
    "### Text preprocessing tasks: what preprocessing tasks are the most suitable for your data? Choose at least 3 tasks based on your findings from data understanding and discuss why they might be suitable. Document and discuss the incremental performance after each applied technique to the 3 matrices and decide whether they should be included in the final pipeline (justify your decisions) "
   ]
  },
  {
   "cell_type": "code",
   "execution_count": 4,
   "id": "bfaf135f",
   "metadata": {},
   "outputs": [
    {
     "data": {
      "text/html": [
       "<div>\n",
       "<style scoped>\n",
       "    .dataframe tbody tr th:only-of-type {\n",
       "        vertical-align: middle;\n",
       "    }\n",
       "\n",
       "    .dataframe tbody tr th {\n",
       "        vertical-align: top;\n",
       "    }\n",
       "\n",
       "    .dataframe thead th {\n",
       "        text-align: right;\n",
       "    }\n",
       "</style>\n",
       "<table border=\"1\" class=\"dataframe\">\n",
       "  <thead>\n",
       "    <tr style=\"text-align: right;\">\n",
       "      <th></th>\n",
       "      <th>Article</th>\n",
       "      <th>Class</th>\n",
       "    </tr>\n",
       "  </thead>\n",
       "  <tbody>\n",
       "    <tr>\n",
       "      <th>0</th>\n",
       "      <td>NBA's Top 100 Players for 2019-20: Ranking th...</td>\n",
       "      <td>NBA</td>\n",
       "    </tr>\n",
       "    <tr>\n",
       "      <th>1</th>\n",
       "      <td>Rare ComicsTop 50 Marvel Comics Of 2015Top 50 ...</td>\n",
       "      <td>Marvel</td>\n",
       "    </tr>\n",
       "    <tr>\n",
       "      <th>2</th>\n",
       "      <td>LibraryLibraryComics and Graphic Novels Columb...</td>\n",
       "      <td>DC</td>\n",
       "    </tr>\n",
       "    <tr>\n",
       "      <th>3</th>\n",
       "      <td>NBA Top 100 Players 2021-2022 | Ranking The Be...</td>\n",
       "      <td>NBA</td>\n",
       "    </tr>\n",
       "    <tr>\n",
       "      <th>4</th>\n",
       "      <td>Best DC Comics of 2019Comic Book HeraldA Comic...</td>\n",
       "      <td>DC</td>\n",
       "    </tr>\n",
       "    <tr>\n",
       "      <th>...</th>\n",
       "      <td>...</td>\n",
       "      <td>...</td>\n",
       "    </tr>\n",
       "    <tr>\n",
       "      <th>85</th>\n",
       "      <td>screenrant.comThe Best DC Comics Miniseries of...</td>\n",
       "      <td>DC</td>\n",
       "    </tr>\n",
       "    <tr>\n",
       "      <th>86</th>\n",
       "      <td>30 Best Marvel Comics Definitive GuideFree U.S...</td>\n",
       "      <td>Marvel</td>\n",
       "    </tr>\n",
       "    <tr>\n",
       "      <th>87</th>\n",
       "      <td>Stephen Curry Ranks as NBA’s Most-Liked Player...</td>\n",
       "      <td>NBA</td>\n",
       "    </tr>\n",
       "    <tr>\n",
       "      <th>88</th>\n",
       "      <td>Best DC Comics storiesGamesRadar+ is supported...</td>\n",
       "      <td>DC</td>\n",
       "    </tr>\n",
       "    <tr>\n",
       "      <th>89</th>\n",
       "      <td>Weird Science Marvel ComicsMarvel Comics Best ...</td>\n",
       "      <td>Marvel</td>\n",
       "    </tr>\n",
       "  </tbody>\n",
       "</table>\n",
       "<p>90 rows × 2 columns</p>\n",
       "</div>"
      ],
      "text/plain": [
       "                                              Article   Class\n",
       "0    NBA's Top 100 Players for 2019-20: Ranking th...     NBA\n",
       "1   Rare ComicsTop 50 Marvel Comics Of 2015Top 50 ...  Marvel\n",
       "2   LibraryLibraryComics and Graphic Novels Columb...      DC\n",
       "3   NBA Top 100 Players 2021-2022 | Ranking The Be...     NBA\n",
       "4   Best DC Comics of 2019Comic Book HeraldA Comic...      DC\n",
       "..                                                ...     ...\n",
       "85  screenrant.comThe Best DC Comics Miniseries of...      DC\n",
       "86  30 Best Marvel Comics Definitive GuideFree U.S...  Marvel\n",
       "87  Stephen Curry Ranks as NBA’s Most-Liked Player...     NBA\n",
       "88  Best DC Comics storiesGamesRadar+ is supported...      DC\n",
       "89  Weird Science Marvel ComicsMarvel Comics Best ...  Marvel\n",
       "\n",
       "[90 rows x 2 columns]"
      ]
     },
     "execution_count": 4,
     "metadata": {},
     "output_type": "execute_result"
    }
   ],
   "source": [
    "#Initial cleaning of data\n",
    "clean_data = corpus.copy()\n",
    "clean_data.Article = clean_data.Article.apply(tm.clean_doc)\n",
    "clean_data"
   ]
  },
  {
   "cell_type": "code",
   "execution_count": 5,
   "id": "09299034",
   "metadata": {},
   "outputs": [
    {
     "name": "stdout",
     "output_type": "stream",
     "text": [
      "Accuracy: 0.88\n",
      "Precision macro: 0.89\n",
      "Recall macro: 0.88\n",
      "No. of terms after cleaning: 22478\n"
     ]
    }
   ],
   "source": [
    "clean_count_matrix = tm.build_count_matrix(list(clean_data.Article))\n",
    "tm.crossvalidate_model(dt_clf, clean_count_matrix, y, print_=True)\n",
    "print(\"No. of terms after cleaning:\", clean_count_matrix.shape[1])"
   ]
  },
  {
   "cell_type": "code",
   "execution_count": 6,
   "id": "4938f8cb",
   "metadata": {},
   "outputs": [
    {
     "name": "stdout",
     "output_type": "stream",
     "text": [
      "Accuracy: 0.91\n",
      "Precision macro: 0.91\n",
      "Recall macro: 0.91\n",
      "No. of terms after cleaning: 22478\n"
     ]
    }
   ],
   "source": [
    "clean_tf_matrix = tm.build_tf_matrix(list(clean_data.Article))\n",
    "tm.crossvalidate_model(dt_clf, clean_tf_matrix, y, print_=True)\n",
    "print(\"No. of terms after cleaning:\", clean_tf_matrix.shape[1])"
   ]
  },
  {
   "cell_type": "code",
   "execution_count": 7,
   "id": "dd4506cf",
   "metadata": {},
   "outputs": [
    {
     "name": "stdout",
     "output_type": "stream",
     "text": [
      "Accuracy: 0.91\n",
      "Precision macro: 0.91\n",
      "Recall macro: 0.91\n",
      "No. of terms after cleaning: 22478\n"
     ]
    }
   ],
   "source": [
    "clean_tfidf_matrix = tm.build_tfidf_matrix(list(clean_data.Article))\n",
    "tm.crossvalidate_model(dt_clf, clean_tfidf_matrix, y, print_=True)\n",
    "print(\"No. of terms after cleaning:\", clean_tfidf_matrix.shape[1])"
   ]
  },
  {
   "cell_type": "code",
   "execution_count": 8,
   "id": "9bd1f63e",
   "metadata": {},
   "outputs": [
    {
     "name": "stdout",
     "output_type": "stream",
     "text": [
      "['i', 'me', 'my', 'myself', 'we', 'our', 'ours', 'ourselves', 'you', \"you're\", \"you've\", \"you'll\", \"you'd\", 'your', 'yours', 'yourself', 'yourselves', 'he', 'him', 'his', 'himself', 'she', \"she's\", 'her', 'hers', 'herself', 'it', \"it's\", 'its', 'itself', 'they', 'them', 'their', 'theirs', 'themselves', 'what', 'which', 'who', 'whom', 'this', 'that', \"that'll\", 'these', 'those', 'am', 'is', 'are', 'was', 'were', 'be', 'been', 'being', 'have', 'has', 'had', 'having', 'do', 'does', 'did', 'doing', 'a', 'an', 'the', 'and', 'but', 'if', 'or', 'because', 'as', 'until', 'while', 'of', 'at', 'by', 'for', 'with', 'about', 'against', 'between', 'into', 'through', 'during', 'before', 'after', 'above', 'below', 'to', 'from', 'up', 'down', 'in', 'out', 'on', 'off', 'over', 'under', 'again', 'further', 'then', 'once', 'here', 'there', 'when', 'where', 'why', 'how', 'all', 'any', 'both', 'each', 'few', 'more', 'most', 'other', 'some', 'such', 'no', 'nor', 'not', 'only', 'own', 'same', 'so', 'than', 'too', 'very', 's', 't', 'can', 'will', 'just', 'don', \"don't\", 'should', \"should've\", 'now', 'd', 'll', 'm', 'o', 're', 've', 'y', 'ain', 'aren', \"aren't\", 'couldn', \"couldn't\", 'didn', \"didn't\", 'doesn', \"doesn't\", 'hadn', \"hadn't\", 'hasn', \"hasn't\", 'haven', \"haven't\", 'isn', \"isn't\", 'ma', 'mightn', \"mightn't\", 'mustn', \"mustn't\", 'needn', \"needn't\", 'shan', \"shan't\", 'shouldn', \"shouldn't\", 'wasn', \"wasn't\", 'weren', \"weren't\", 'won', \"won't\", 'wouldn', \"wouldn't\"]\n"
     ]
    }
   ],
   "source": [
    "# Stop words removal\n",
    "improved_data = clean_data.copy()\n",
    "universal_sw = nltk.corpus.stopwords.words('english')\n",
    "print(universal_sw)"
   ]
  },
  {
   "cell_type": "code",
   "execution_count": 9,
   "id": "fb20d1e4",
   "metadata": {},
   "outputs": [
    {
     "name": "stdout",
     "output_type": "stream",
     "text": [
      "Accuracy: 0.92\n",
      "Precision macro: 0.93\n",
      "Recall macro: 0.92\n",
      "No. of terms after removal: 22294\n"
     ]
    }
   ],
   "source": [
    "swr_u_data = improved_data.copy()\n",
    "swr_u_data.Article = swr_u_data.Article.apply(tm.remove_sw, sw=universal_sw)\n",
    "\n",
    "swr_u_count_matrix = tm.build_count_matrix(list(swr_u_data.Article))\n",
    "tm.crossvalidate_model(dt_clf, swr_u_count_matrix, y, print_=True)\n",
    "print(\"No. of terms after removal:\", swr_u_count_matrix.shape[1])"
   ]
  },
  {
   "cell_type": "code",
   "execution_count": 10,
   "id": "c8ab0a60",
   "metadata": {},
   "outputs": [
    {
     "name": "stdout",
     "output_type": "stream",
     "text": [
      "Accuracy: 0.94\n",
      "Precision macro: 0.95\n",
      "Recall macro: 0.94\n",
      "No. of terms after removal: 22294\n"
     ]
    }
   ],
   "source": [
    "swr_u_tf_matrix = tm.build_tf_matrix(list(swr_u_data.Article))\n",
    "tm.crossvalidate_model(dt_clf, swr_u_tf_matrix, y, print_=True)\n",
    "print(\"No. of terms after removal:\", swr_u_tf_matrix.shape[1])"
   ]
  },
  {
   "cell_type": "code",
   "execution_count": 11,
   "id": "0142f429",
   "metadata": {},
   "outputs": [
    {
     "name": "stdout",
     "output_type": "stream",
     "text": [
      "Accuracy: 0.94\n",
      "Precision macro: 0.95\n",
      "Recall macro: 0.94\n",
      "No. of terms after removal: 22294\n"
     ]
    }
   ],
   "source": [
    "swr_u_tfidf_matrix = tm.build_tfidf_matrix(list(swr_u_data.Article))\n",
    "tm.crossvalidate_model(dt_clf, swr_u_tfidf_matrix, y, print_=True)\n",
    "print(\"No. of terms after removal:\", swr_u_tfidf_matrix.shape[1])"
   ]
  },
  {
   "cell_type": "code",
   "execution_count": 12,
   "id": "81b5132e",
   "metadata": {},
   "outputs": [
    {
     "name": "stdout",
     "output_type": "stream",
     "text": [
      "Accuracy: 0.94\n",
      "Precision macro: 0.95\n",
      "Recall macro: 0.94\n",
      "No. of terms after removal: 22425\n"
     ]
    }
   ],
   "source": [
    "custom_sw = ['the', 'of', 'and', 'to', 'in', 'is', 'was', 'on', 's']\n",
    "swr_c_data = improved_data.copy()\n",
    "\n",
    "swr_c_data.Article = swr_c_data.Article.apply(tm.remove_sw, sw=custom_sw)\n",
    "swr_c_count_matrix = tm.build_count_matrix(list(swr_c_data.Article))\n",
    "\n",
    "tm.crossvalidate_model(dt_clf, swr_c_count_matrix, y, print_=True)\n",
    "print(\"No. of terms after removal:\", swr_c_count_matrix.shape[1])"
   ]
  },
  {
   "cell_type": "code",
   "execution_count": 13,
   "id": "7545f01a",
   "metadata": {},
   "outputs": [
    {
     "name": "stdout",
     "output_type": "stream",
     "text": [
      "Accuracy: 0.93\n",
      "Precision macro: 0.94\n",
      "Recall macro: 0.93\n",
      "No. of terms after removal: 22425\n"
     ]
    }
   ],
   "source": [
    "swr_c_tf_matrix = tm.build_tf_matrix(list(swr_c_data.Article))\n",
    "tm.crossvalidate_model(dt_clf, swr_c_tf_matrix, y, print_=True)\n",
    "print(\"No. of terms after removal:\", swr_c_tf_matrix.shape[1])"
   ]
  },
  {
   "cell_type": "code",
   "execution_count": 14,
   "id": "9008a4a6",
   "metadata": {},
   "outputs": [
    {
     "name": "stdout",
     "output_type": "stream",
     "text": [
      "Accuracy: 0.93\n",
      "Precision macro: 0.94\n",
      "Recall macro: 0.93\n",
      "No. of terms after removal: 22425\n"
     ]
    }
   ],
   "source": [
    "swr_c_tfidf_matrix = tm.build_tfidf_matrix(list(swr_c_data.Article))\n",
    "tm.crossvalidate_model(dt_clf, swr_c_tfidf_matrix, y, print_=True)\n",
    "print(\"No. of terms after removal:\", swr_c_tfidf_matrix.shape[1])"
   ]
  },
  {
   "cell_type": "code",
   "execution_count": 15,
   "id": "9be10be7",
   "metadata": {},
   "outputs": [
    {
     "name": "stdout",
     "output_type": "stream",
     "text": [
      "Accuracy: 0.91\n",
      "Precision macro: 0.92\n",
      "Recall macro: 0.91\n",
      "No. of terms after improving the bow: 22452\n"
     ]
    }
   ],
   "source": [
    "#Improving the BOW\n",
    "repl_dictionary = {\n",
    "    'comics': ['comic(s)[-]books', 'stories'],\n",
    "    'superhero':['superheroes', 'hero(es)'],\n",
    "    'writer': ['author(s)', 'creator(s)'],\n",
    "    'NBA': ['league'],\n",
    "    'team': ['franchise(s)'],\n",
    "    'season': ['year']\n",
    "}\n",
    "\n",
    "improved_data.Article = improved_data.Article.apply(tm.improve_bow, replc_dict=repl_dictionary)\n",
    "\n",
    "improved_count_matrix = tm.build_count_matrix(list(improved_data.Article))\n",
    "\n",
    "tm.crossvalidate_model(dt_clf, improved_count_matrix, y, print_=True)\n",
    "print(\"No. of terms after improving the bow:\", improved_count_matrix.shape[1])"
   ]
  },
  {
   "cell_type": "code",
   "execution_count": 16,
   "id": "0683c768",
   "metadata": {},
   "outputs": [
    {
     "name": "stdout",
     "output_type": "stream",
     "text": [
      "Accuracy: 0.90\n",
      "Precision macro: 0.90\n",
      "Recall macro: 0.90\n",
      "No. of terms after improving the bow: 22452\n"
     ]
    }
   ],
   "source": [
    "improved_tf_matrix = tm.build_tf_matrix(list(improved_data.Article))\n",
    "tm.crossvalidate_model(dt_clf, improved_tf_matrix, y, print_=True)\n",
    "print(\"No. of terms after improving the bow:\", improved_tf_matrix.shape[1])"
   ]
  },
  {
   "cell_type": "code",
   "execution_count": 17,
   "id": "5edc1df7",
   "metadata": {},
   "outputs": [
    {
     "name": "stdout",
     "output_type": "stream",
     "text": [
      "Accuracy: 0.90\n",
      "Precision macro: 0.90\n",
      "Recall macro: 0.90\n",
      "No. of terms after improving the bow: 22452\n"
     ]
    }
   ],
   "source": [
    "improved_tfidf_matrix = tm.build_tfidf_matrix(list(improved_data.Article))\n",
    "tm.crossvalidate_model(dt_clf, improved_tfidf_matrix, y, print_=True)\n",
    "print(\"No. of terms after improving the bow:\", improved_tfidf_matrix.shape[1])"
   ]
  },
  {
   "cell_type": "markdown",
   "id": "201d68a8",
   "metadata": {},
   "source": [
    "### Algorithms-based Feature selection/reduction tasks: Choose at least 2 techniques to try. Document  and discuss the performance after each applied technique and decidewhich one to include in the final p ipeline (justify your decision); of the terms chosen by the algorithms as being the most predictive, do they concur with the terms you thought would be the  best predictors from data understanding?"
   ]
  },
  {
   "cell_type": "code",
   "execution_count": 18,
   "id": "13b0cb5b",
   "metadata": {},
   "outputs": [
    {
     "name": "stdout",
     "output_type": "stream",
     "text": [
      "('DC', 103.04304351383176)\n",
      "('Batman', 89.88744180615656)\n",
      "('Superman', 77.94561663486404)\n",
      "('Wonder', 42.48320481800983)\n",
      "('Marvel', 35.36081085733576)\n",
      "('NBA', 34.926781841324456)\n",
      "('Woman', 34.28310463091443)\n",
      "('Captain', 28.253974264748138)\n",
      "('Lantern', 26.819260183295523)\n",
      "('Hulk', 21.54085049058878)\n",
      "('comic', 21.52173577047774)\n",
      "('America', 20.951227343357562)\n",
      "('Spider-Man', 20.492595398935897)\n",
      "('Comics', 19.348798873495035)\n",
      "('Justice', 17.908332503163283)\n",
      "('Green', 16.85510313042924)\n",
      "('last', 16.54938577353703)\n",
      "('X-Men', 16.214625664916795)\n",
      "('Thor', 15.987526941577178)\n",
      "('season', 15.921724733565263)\n",
      "('Steel', 15.866293485277316)\n",
      "('Gotham', 15.579147117217115)\n",
      "('character', 15.06636697356377)\n",
      "('Detective', 14.99177720496389)\n",
      "('characters', 14.747154536937948)\n",
      "('Kent', 14.493629154184667)\n",
      "('Doctor', 14.382853611378424)\n",
      "('Iron', 14.17445302612868)\n",
      "('Avengers', 13.985853757999102)\n",
      "('Strange', 13.757362245129684)\n",
      "('players', 13.221265487024437)\n",
      "('Flash', 13.161290543922677)\n",
      "('book', 13.145619401586387)\n",
      "('offensive', 12.977430525832853)\n",
      "('Grayson', 12.951158004258769)\n",
      "('War', 12.677294104626949)\n",
      "('Dick', 12.543482505755438)\n",
      "('mutant', 12.43152002118588)\n",
      "('Durant', 12.403067186180133)\n",
      "('Dark', 12.355772280226699)\n",
      "('game', 12.342806029647033)\n",
      "('LeBron', 12.338855400315417)\n",
      "('per', 12.252144157210193)\n",
      "('career', 11.959974821495372)\n",
      "('Galactus', 11.733473089241437)\n",
      "('scorer', 11.63917169649363)\n",
      "('Universe', 11.236314906143438)\n",
      "('Clark', 11.223445216071271)\n",
      "('basketball', 11.19964427224918)\n",
      "('Daredevil', 11.047903476141022)\n",
      "('Fantastic', 10.976806920020419)\n",
      "('Wolverine', 10.89657891965197)\n",
      "('Guardians', 10.895862445062644)\n",
      "('Returns', 10.748508386904504)\n",
      "('points', 10.737934930100382)\n",
      "('Scott', 10.652428379135795)\n",
      "('Jonathan', 10.624732965638685)\n",
      "('story', 10.56376875097707)\n",
      "('X', 10.546138341137505)\n",
      "('that', 10.545262145196286)\n",
      "('James', 10.54525467885196)\n",
      "('Panther', 10.525321399670545)\n",
      "('Harden', 10.50777329882481)\n",
      "('scoring', 10.462380545946322)\n",
      "('shooting', 10.443041149379937)\n",
      "('Nets', 10.427716138881285)\n",
      "('player', 10.406419084218523)\n",
      "('Hickman', 10.374473549974317)\n",
      "('Joker', 10.314499645142341)\n",
      "('Morrison', 10.074132286215775)\n",
      "('Man', 9.975628112300619)\n",
      "('Davis', 9.927743270965996)\n",
      "('Amazing', 9.743921763505215)\n",
      "('Surfer', 9.662022759129226)\n",
      "('championship', 9.655650290707158)\n",
      "('Snyder', 9.594910964027498)\n",
      "('Infinite', 9.539662110484775)\n",
      "('Alan', 9.489462819531225)\n",
      "('comics', 9.477444819147639)\n",
      "('guard', 9.413819738415606)\n",
      "('Hal', 9.363115441533274)\n",
      "('Geoff', 9.337093629941917)\n",
      "('Johns', 9.285498001486232)\n",
      "('Civil', 9.229497504487389)\n",
      "('52', 9.218946576600569)\n",
      "('Wayne', 9.106955909090248)\n",
      "('efficient', 9.101075801551495)\n",
      "('Corps', 9.054178947480258)\n",
      "('Angeles', 9.048746804479913)\n",
      "('Infinity', 9.018733674283085)\n",
      "Accuracy: 0.92\n",
      "Precision macro: 0.93\n",
      "Recall macro: 0.92\n",
      "No. of terms after applying anova feature selection: 90\n"
     ]
    }
   ],
   "source": [
    "## Univariate Feature Selection\n",
    "uni_data = improved_data.copy()\n",
    "uni_tfidf_matrix = tm.build_tfidf_matrix(\n",
    "    list(uni_data.Article))\n",
    "uni_reduced_tfidf_matrix = tm.univariate_selection(\n",
    "    uni_tfidf_matrix, uni_data.Class, scheme=f_classif)\n",
    "uni_reduced_tfidf_scores = tm.crossvalidate_model(\n",
    "    dt_clf, uni_reduced_tfidf_matrix, y)\n",
    "print(\"No. of terms after applying anova feature selection:\", \n",
    "      uni_reduced_tfidf_matrix.shape[0])"
   ]
  },
  {
   "cell_type": "code",
   "execution_count": 19,
   "id": "c492a429",
   "metadata": {},
   "outputs": [
    {
     "name": "stdout",
     "output_type": "stream",
     "text": [
      "[('H.G', 11177), ('KID', 11177), ('tales', 11176), ('CASES', 11176), ('comics.Whether', 11175), ('COLT', 11175), ('humanity.There', 11174), ('CRIME', 11174), ('restoring', 11173), ('OUTLAW', 11173), ('affair', 11172), ('TRUE', 11172), ('distinctive', 11171), ('aimed', 11171), ('Zods', 11170), ('audience.Joe', 11170), ('Luthors', 11169), ('magazine', 11169), ('pitted', 11168), ('OFFICIAL', 11168), ('RankedSuperman', 11167), ('look-out', 11167), ('Origins', 11166), ('avenue', 11166), ('ideology.RELATED', 11165), ('MY', 11165), ('civilisations.The', 11164), ('slide', 11164), ('myths', 11163), ('ROMANCE', 11163), ('Aztec', 11162), ('letters', 11162), ('warrior', 11161), ('industry.By', 11161), ('pantheon.Wonder', 11160), ('boom', 11160), ('Universes', 11159), ('occurred', 11159), ('Loki', 11158), ('girls', 11158), ('Norse', 11157), ('mashed', 11157), ('legends', 11156), ('boys', 11156), ('further.Mythology', 11155), ('Westerns', 11155), ('Noir', 11154), ('COWBOY', 11154), ('character.From', 11153), ('ROMANCES', 11153), ('therefore', 11152), ('light-hearted', 11152), ('loves', 11151), ('RANGELAND', 11151), ('comics.Batman', 11150), ('LOVE', 11150), ('normally', 11149), ('for-the-most-part', 11149), ('atmosphere', 11148), ('weary', 11148), ('MembersThe', 11147), ('nameless', 11147), ('Kids', 11146), ('forged', 11146), ('Forgotten', 11145), ('electrify', 11145), ('emulate.RELATED', 11144), ('balm', 11144), ('sequences', 11143), ('storm', 11143), ('underneath', 11142), ('sort-of', 11142), ('survives', 11141), ('cloud', 11141), ('represent', 11140), ('voices', 11140), ('NBAOf', 11139), ('lingered', 11139), ('Matched', 11138), ('decency', 11138), ('Genres', 11137), ('values.With', 11137), ('ComicsDon', 11136), ('ilk', 11136), ('ComicsIndie', 11135), ('rationing', 11135), ('ComicsImage', 11134), ('Korean', 11134), ('low-key', 11133), ('1951', 11133), ('quarterly', 11132), ('Nurse', 11132), ('intro', 11131), ('moniker', 11131), ('pointed', 11130), ('Atlas', 11130), ('InformationFinally', 11129), ('BATTLE', 11129), ('KrewMore', 11128), ('Nellie', 11128)]\n",
      "Accuracy: 0.92\n",
      "Precision macro: 0.93\n",
      "Recall macro: 0.92\n",
      "No. of terms after rfe: 100\n"
     ]
    }
   ],
   "source": [
    "# RFE\n",
    "rfe_data = improved_data.copy()\n",
    "rfe_tfidf_matrix = tm.build_tfidf_matrix(\n",
    "    list(rfe_data.Article))\n",
    "rfe_reduced_tfidf_matrix = tm.rfe_selection(\n",
    "    dt_clf, rfe_tfidf_matrix, y, n=100, step=2)\n",
    "rfe_tfidf_scores = tm.crossvalidate_model(\n",
    "    dt_clf, rfe_reduced_tfidf_matrix, y)\n",
    "print(\"No. of terms after rfe:\", \n",
    "      rfe_reduced_tfidf_matrix.shape[1])"
   ]
  },
  {
   "cell_type": "code",
   "execution_count": null,
   "id": "d960d7fa",
   "metadata": {},
   "outputs": [],
   "source": []
  },
  {
   "cell_type": "code",
   "execution_count": null,
   "id": "57f94c42",
   "metadata": {},
   "outputs": [],
   "source": []
  },
  {
   "cell_type": "code",
   "execution_count": null,
   "id": "76dc1d59",
   "metadata": {},
   "outputs": [],
   "source": []
  }
 ],
 "metadata": {
  "kernelspec": {
   "display_name": "Python 3 (ipykernel)",
   "language": "python",
   "name": "python3"
  },
  "language_info": {
   "codemirror_mode": {
    "name": "ipython",
    "version": 3
   },
   "file_extension": ".py",
   "mimetype": "text/x-python",
   "name": "python",
   "nbconvert_exporter": "python",
   "pygments_lexer": "ipython3",
   "version": "3.8.1"
  }
 },
 "nbformat": 4,
 "nbformat_minor": 5
}
