{
 "cells": [
  {
   "cell_type": "code",
   "execution_count": 1,
   "id": "d4f7e737",
   "metadata": {},
   "outputs": [
    {
     "name": "stderr",
     "output_type": "stream",
     "text": [
      "[nltk_data] Downloading package stopwords to\n",
      "[nltk_data]     C:\\Users\\fuad9\\AppData\\Roaming\\nltk_data...\n",
      "[nltk_data]   Package stopwords is already up-to-date!\n"
     ]
    },
    {
     "data": {
      "text/plain": [
       "True"
      ]
     },
     "execution_count": 1,
     "metadata": {},
     "output_type": "execute_result"
    }
   ],
   "source": [
    "import re, pandas as pd, numpy as np, requests, bs4, matplotlib.pyplot as plt\n",
    "import wordcloud, nltk\n",
    "from collections import Counter\n",
    "import warnings\n",
    "warnings.filterwarnings('ignore')\n",
    "from sklearn.tree import DecisionTreeClassifier\n",
    "from sklearn.model_selection import cross_validate\n",
    "from sklearn.metrics import recall_score, precision_score, accuracy_score\n",
    "import wordcloud\n",
    "import text_mining_utils as tm\n",
    "from sklearn.cluster import KMeans\n",
    "from sklearn.cluster import AgglomerativeClustering \n",
    "from sklearn.feature_selection import f_classif\n",
    "\n",
    "\n",
    "nltk.download('stopwords')"
   ]
  },
  {
   "cell_type": "code",
   "execution_count": 2,
   "id": "969b6345",
   "metadata": {},
   "outputs": [
    {
     "data": {
      "text/html": [
       "<div>\n",
       "<style scoped>\n",
       "    .dataframe tbody tr th:only-of-type {\n",
       "        vertical-align: middle;\n",
       "    }\n",
       "\n",
       "    .dataframe tbody tr th {\n",
       "        vertical-align: top;\n",
       "    }\n",
       "\n",
       "    .dataframe thead th {\n",
       "        text-align: right;\n",
       "    }\n",
       "</style>\n",
       "<table border=\"1\" class=\"dataframe\">\n",
       "  <thead>\n",
       "    <tr style=\"text-align: right;\">\n",
       "      <th></th>\n",
       "      <th>Article</th>\n",
       "      <th>Class</th>\n",
       "    </tr>\n",
       "  </thead>\n",
       "  <tbody>\n",
       "    <tr>\n",
       "      <th>0</th>\n",
       "      <td>\\n        \\n        NBA's Top 100 Players for ...</td>\n",
       "      <td>NBA</td>\n",
       "    </tr>\n",
       "    <tr>\n",
       "      <th>1</th>\n",
       "      <td>Rare ComicsTop 50 Marvel Comics Of 2015Top 50 ...</td>\n",
       "      <td>Marvel</td>\n",
       "    </tr>\n",
       "    <tr>\n",
       "      <th>2</th>\n",
       "      <td>LibraryLibraryComics and Graphic Novels\\nColum...</td>\n",
       "      <td>DC</td>\n",
       "    </tr>\n",
       "    <tr>\n",
       "      <th>3</th>\n",
       "      <td>NBA Top 100 Players 2021-2022 | Ranking The Be...</td>\n",
       "      <td>NBA</td>\n",
       "    </tr>\n",
       "    <tr>\n",
       "      <th>4</th>\n",
       "      <td>Best DC Comics of 2019Comic Book HeraldA Comic...</td>\n",
       "      <td>DC</td>\n",
       "    </tr>\n",
       "    <tr>\n",
       "      <th>...</th>\n",
       "      <td>...</td>\n",
       "      <td>...</td>\n",
       "    </tr>\n",
       "    <tr>\n",
       "      <th>85</th>\n",
       "      <td>screenrant.comThe Best DC Comics Miniseries of...</td>\n",
       "      <td>DC</td>\n",
       "    </tr>\n",
       "    <tr>\n",
       "      <th>86</th>\n",
       "      <td>30 Best Marvel Comics (2022 UPDATED) Definitiv...</td>\n",
       "      <td>Marvel</td>\n",
       "    </tr>\n",
       "    <tr>\n",
       "      <th>87</th>\n",
       "      <td>Stephen Curry Ranks as NBA’s Most-Liked Player...</td>\n",
       "      <td>NBA</td>\n",
       "    </tr>\n",
       "    <tr>\n",
       "      <th>88</th>\n",
       "      <td>Best DC Comics storiesGamesRadar+ is supported...</td>\n",
       "      <td>DC</td>\n",
       "    </tr>\n",
       "    <tr>\n",
       "      <th>89</th>\n",
       "      <td>Weird Science Marvel ComicsMarvel Comics Best ...</td>\n",
       "      <td>Marvel</td>\n",
       "    </tr>\n",
       "  </tbody>\n",
       "</table>\n",
       "<p>90 rows × 2 columns</p>\n",
       "</div>"
      ],
      "text/plain": [
       "                                              Article   Class\n",
       "0   \\n        \\n        NBA's Top 100 Players for ...     NBA\n",
       "1   Rare ComicsTop 50 Marvel Comics Of 2015Top 50 ...  Marvel\n",
       "2   LibraryLibraryComics and Graphic Novels\\nColum...      DC\n",
       "3   NBA Top 100 Players 2021-2022 | Ranking The Be...     NBA\n",
       "4   Best DC Comics of 2019Comic Book HeraldA Comic...      DC\n",
       "..                                                ...     ...\n",
       "85  screenrant.comThe Best DC Comics Miniseries of...      DC\n",
       "86  30 Best Marvel Comics (2022 UPDATED) Definitiv...  Marvel\n",
       "87  Stephen Curry Ranks as NBA’s Most-Liked Player...     NBA\n",
       "88  Best DC Comics storiesGamesRadar+ is supported...      DC\n",
       "89  Weird Science Marvel ComicsMarvel Comics Best ...  Marvel\n",
       "\n",
       "[90 rows x 2 columns]"
      ]
     },
     "execution_count": 2,
     "metadata": {},
     "output_type": "execute_result"
    }
   ],
   "source": [
    "corpus = pd.read_csv('corpus.csv')\n",
    "corpus"
   ]
  },
  {
   "cell_type": "code",
   "execution_count": 3,
   "id": "523b7f12",
   "metadata": {},
   "outputs": [],
   "source": [
    "dt_clf = DecisionTreeClassifier(random_state=1)\n",
    "y = corpus.Class"
   ]
  },
  {
   "cell_type": "code",
   "execution_count": 4,
   "id": "230b5296",
   "metadata": {},
   "outputs": [],
   "source": [
    "## Hyperparameter Tuning\n",
    "params = {\n",
    "    \"criterion\": ['gini', 'entropy'],\n",
    "    \"max_depth\": range(3, 16),\n",
    "    \"min_samples_split\": range(2, 16),\n",
    "    \"min_samples_leaf\": range(3, 10),\n",
    "    \"min_impurity_decrease\": [0.01, 0.02, 0.03, 0.04, 0.05]\n",
    "}"
   ]
  },
  {
   "cell_type": "code",
   "execution_count": 5,
   "id": "9a68fdd9",
   "metadata": {},
   "outputs": [
    {
     "name": "stdout",
     "output_type": "stream",
     "text": [
      "Accuracy: 0.90\n",
      "Precision macro: 0.91\n",
      "Recall macro: 0.90\n"
     ]
    }
   ],
   "source": [
    "## Baseline Count Matrix\n",
    "documents = list(corpus.Article)\n",
    "baseline_count_matrix = tm.build_count_matrix(documents)\n",
    "\n",
    "baseline_count_scores = tm.crossvalidate_model(dt_clf, baseline_count_matrix, y, print_=True)"
   ]
  },
  {
   "cell_type": "code",
   "execution_count": 7,
   "id": "c25607fd",
   "metadata": {},
   "outputs": [
    {
     "name": "stdout",
     "output_type": "stream",
     "text": [
      "Accuracy: 0.92\n",
      "Precision macro: 0.93\n",
      "Recall macro: 0.92\n"
     ]
    }
   ],
   "source": [
    "## change the params of the DT to the optimal ones above\n",
    "opt_baseline_count_clf = DecisionTreeClassifier(random_state=1,\n",
    "                                      criterion='gini',\n",
    "                                      max_depth=3,\n",
    "                                      min_impurity_decrease=0.01,\n",
    "                                      min_samples_split=2,\n",
    "                                      min_samples_leaf=5)\n",
    "\n",
    "## retrain and get performance\n",
    "opt_baseline_count_scores = tm.crossvalidate_model(opt_baseline_count_clf,\n",
    "                                         baseline_count_matrix,\n",
    "                                         y)"
   ]
  },
  {
   "cell_type": "code",
   "execution_count": 8,
   "id": "62d1f472",
   "metadata": {},
   "outputs": [
    {
     "name": "stdout",
     "output_type": "stream",
     "text": [
      "Accuracy: 0.93\n",
      "Precision macro: 0.94\n",
      "Recall macro: 0.93\n"
     ]
    },
    {
     "data": {
      "text/plain": [
       "(0.9333333333333333, 0.9390476190476191, 0.9333333333333333)"
      ]
     },
     "execution_count": 8,
     "metadata": {},
     "output_type": "execute_result"
    }
   ],
   "source": [
    "## Baseline TF Matrix\n",
    "baseline_tf_matrix = tm.build_tf_matrix(documents)\n",
    "tm.crossvalidate_model(dt_clf, baseline_tf_matrix, y, print_=True)"
   ]
  },
  {
   "cell_type": "code",
   "execution_count": 12,
   "id": "f189d8b1",
   "metadata": {},
   "outputs": [
    {
     "name": "stdout",
     "output_type": "stream",
     "text": [
      "Accuracy: 0.91\n",
      "Precision macro: 0.92\n",
      "Recall macro: 0.91\n"
     ]
    }
   ],
   "source": [
    "## change the params of the DT to the optimal ones above\n",
    "opt_baseline_tf_clf = DecisionTreeClassifier(random_state=1,\n",
    "                                      criterion='gini',\n",
    "                                      max_depth=4,\n",
    "                                      min_impurity_decrease=0.01,\n",
    "                                      min_samples_split=2,\n",
    "                                      min_samples_leaf=2)\n",
    "\n",
    "## retrain and get performance\n",
    "opt_baseline_tf_scores = tm.crossvalidate_model(opt_baseline_tf_clf,\n",
    "                                         baseline_count_matrix,\n",
    "                                         y)"
   ]
  },
  {
   "cell_type": "code",
   "execution_count": null,
   "id": "6a705b51",
   "metadata": {},
   "outputs": [],
   "source": [
    "## Baseline TFIDF Matrix\n",
    "baseline_tfidf_matrix = tm.build_tfidf_matrix(documents)\n",
    "tm.crossvalidate_model(dt_clf, baseline_tfidf_matrix, y, print_=True)"
   ]
  },
  {
   "cell_type": "code",
   "execution_count": null,
   "id": "ec7f1bd2",
   "metadata": {},
   "outputs": [],
   "source": []
  },
  {
   "cell_type": "code",
   "execution_count": 4,
   "id": "54e0a2a5",
   "metadata": {},
   "outputs": [
    {
     "data": {
      "text/html": [
       "<div>\n",
       "<style scoped>\n",
       "    .dataframe tbody tr th:only-of-type {\n",
       "        vertical-align: middle;\n",
       "    }\n",
       "\n",
       "    .dataframe tbody tr th {\n",
       "        vertical-align: top;\n",
       "    }\n",
       "\n",
       "    .dataframe thead th {\n",
       "        text-align: right;\n",
       "    }\n",
       "</style>\n",
       "<table border=\"1\" class=\"dataframe\">\n",
       "  <thead>\n",
       "    <tr style=\"text-align: right;\">\n",
       "      <th></th>\n",
       "      <th>Article</th>\n",
       "      <th>Class</th>\n",
       "    </tr>\n",
       "  </thead>\n",
       "  <tbody>\n",
       "    <tr>\n",
       "      <th>0</th>\n",
       "      <td>NBA's Top 100 Players for 2019-20: Ranking th...</td>\n",
       "      <td>NBA</td>\n",
       "    </tr>\n",
       "    <tr>\n",
       "      <th>1</th>\n",
       "      <td>Rare ComicsTop 50 Marvel Comics Of 2015Top 50 ...</td>\n",
       "      <td>Marvel</td>\n",
       "    </tr>\n",
       "    <tr>\n",
       "      <th>2</th>\n",
       "      <td>LibraryLibraryComics and Graphic Novels Columb...</td>\n",
       "      <td>DC</td>\n",
       "    </tr>\n",
       "    <tr>\n",
       "      <th>3</th>\n",
       "      <td>NBA Top 100 Players 2021-2022 | Ranking The Be...</td>\n",
       "      <td>NBA</td>\n",
       "    </tr>\n",
       "    <tr>\n",
       "      <th>4</th>\n",
       "      <td>Best DC Comics of 2019Comic Book HeraldA Comic...</td>\n",
       "      <td>DC</td>\n",
       "    </tr>\n",
       "    <tr>\n",
       "      <th>...</th>\n",
       "      <td>...</td>\n",
       "      <td>...</td>\n",
       "    </tr>\n",
       "    <tr>\n",
       "      <th>85</th>\n",
       "      <td>screenrant.comThe Best DC Comics Miniseries of...</td>\n",
       "      <td>DC</td>\n",
       "    </tr>\n",
       "    <tr>\n",
       "      <th>86</th>\n",
       "      <td>30 Best Marvel Comics Definitive GuideFree U.S...</td>\n",
       "      <td>Marvel</td>\n",
       "    </tr>\n",
       "    <tr>\n",
       "      <th>87</th>\n",
       "      <td>Stephen Curry Ranks as NBA’s Most-Liked Player...</td>\n",
       "      <td>NBA</td>\n",
       "    </tr>\n",
       "    <tr>\n",
       "      <th>88</th>\n",
       "      <td>Best DC Comics storiesGamesRadar+ is supported...</td>\n",
       "      <td>DC</td>\n",
       "    </tr>\n",
       "    <tr>\n",
       "      <th>89</th>\n",
       "      <td>Weird Science Marvel ComicsMarvel Comics Best ...</td>\n",
       "      <td>Marvel</td>\n",
       "    </tr>\n",
       "  </tbody>\n",
       "</table>\n",
       "<p>90 rows × 2 columns</p>\n",
       "</div>"
      ],
      "text/plain": [
       "                                              Article   Class\n",
       "0    NBA's Top 100 Players for 2019-20: Ranking th...     NBA\n",
       "1   Rare ComicsTop 50 Marvel Comics Of 2015Top 50 ...  Marvel\n",
       "2   LibraryLibraryComics and Graphic Novels Columb...      DC\n",
       "3   NBA Top 100 Players 2021-2022 | Ranking The Be...     NBA\n",
       "4   Best DC Comics of 2019Comic Book HeraldA Comic...      DC\n",
       "..                                                ...     ...\n",
       "85  screenrant.comThe Best DC Comics Miniseries of...      DC\n",
       "86  30 Best Marvel Comics Definitive GuideFree U.S...  Marvel\n",
       "87  Stephen Curry Ranks as NBA’s Most-Liked Player...     NBA\n",
       "88  Best DC Comics storiesGamesRadar+ is supported...      DC\n",
       "89  Weird Science Marvel ComicsMarvel Comics Best ...  Marvel\n",
       "\n",
       "[90 rows x 2 columns]"
      ]
     },
     "execution_count": 4,
     "metadata": {},
     "output_type": "execute_result"
    }
   ],
   "source": [
    "#Initial cleaning of data\n",
    "clean_data = corpus.copy()\n",
    "clean_data.Article = clean_data.Article.apply(tm.clean_doc)\n",
    "clean_data"
   ]
  },
  {
   "cell_type": "code",
   "execution_count": 8,
   "id": "4c8ea35b",
   "metadata": {},
   "outputs": [
    {
     "name": "stdout",
     "output_type": "stream",
     "text": [
      "Accuracy: 0.88\n",
      "Precision macro: 0.89\n",
      "Recall macro: 0.88\n",
      "No. of terms after cleaning: 22478\n"
     ]
    }
   ],
   "source": [
    "clean_count_matrix = tm.build_count_matrix(list(clean_data.Article))\n",
    "tm.crossvalidate_model(dt_clf, clean_count_matrix, y, print_=True)\n",
    "print(\"No. of terms after cleaning:\", clean_count_matrix.shape[1])"
   ]
  },
  {
   "cell_type": "code",
   "execution_count": null,
   "id": "3e9a7493",
   "metadata": {},
   "outputs": [
    {
     "name": "stderr",
     "output_type": "stream",
     "text": [
      "ERROR:root:Internal Python error in the inspect module.\n",
      "Below is the traceback from this internal error.\n",
      "\n"
     ]
    }
   ],
   "source": [
    "tm.search_optimal_params(dt_clf, clean_count_matrix,\n",
    "                        y, params)"
   ]
  },
  {
   "cell_type": "code",
   "execution_count": 5,
   "id": "145a53b8",
   "metadata": {},
   "outputs": [],
   "source": [
    "improved_data = clean_data.copy()"
   ]
  },
  {
   "cell_type": "code",
   "execution_count": 14,
   "id": "e142bafe",
   "metadata": {},
   "outputs": [
    {
     "name": "stdout",
     "output_type": "stream",
     "text": [
      "[('humanity.There', 11190), ('slide', 11190), ('restoring', 11189), ('OFFICIAL', 11189), ('affair', 11188), ('boom', 11188), ('distinctive', 11187), ('TRUE', 11187), ('Zods', 11186), ('CRIME', 11186), ('Luthors', 11185), ('CASES', 11185), ('pitted', 11184), ('girls', 11184), ('RankedSuperman', 11183), ('KID', 11183), ('Origins', 11182), ('boys', 11182), ('ideology.RELATED', 11181), ('COLT', 11181), ('civilisations.The', 11180), ('light-hearted', 11180), ('myths', 11179), ('OUTLAW', 11179), ('Aztec', 11178), ('aimed', 11178), ('warrior', 11177), ('audience.Joe', 11177), ('pantheon.Wonder', 11176), ('weary', 11176), ('Universes', 11175), ('magazine', 11175), ('Loki', 11174), ('balm', 11174), ('Norse', 11173), ('look-out', 11173), ('legends', 11172), ('sort-of', 11172), ('further.Mythology', 11171), ('avenue', 11171), ('Noir', 11170), ('MY', 11170), ('character.From', 11169), ('ROMANCE', 11169), ('therefore', 11168), ('voices', 11168), ('loves', 11167), ('letters', 11167), ('comics.Batman', 11166), ('industry.By', 11166), ('normally', 11165), ('occurred', 11165), ('atmosphere', 11164), ('ilk', 11164), ('MembersThe', 11163), ('mashed', 11163), ('Kids', 11162), ('Westerns', 11162), ('Forgotten', 11161), ('COWBOY', 11161), ('emulate.RELATED', 11160), ('Nurse', 11160), ('sequences', 11159), ('ROMANCES', 11159), ('underneath', 11158), ('Nellie', 11158), ('survives', 11157), ('RANGELAND', 11157), ('represent', 11156), ('Model', 11156), ('LeagueOf', 11155), ('LOVE', 11155), ('Matched', 11154), ('for-the-most-part', 11154), ('Genres', 11153), ('nameless', 11153), ('ComicsDon', 11152), ('Millie', 11152), ('ComicsIndie', 11151), ('forged', 11151), ('ComicsImage', 11150), ('electrify', 11150), ('low-key', 11149), ('storm', 11149), ('quarterly', 11148), ('titles.Patsy', 11148), ('intro', 11147), ('cloud', 11147), ('pointed', 11146), ('lingered', 11146), ('InformationFinally', 11145), ('decency', 11145), ('KrewMore', 11144), ('craze', 11144), ('2Punisher', 11143), ('values.With', 11143), ('2Ironheart', 11142), ('critters', 11142), ('1More', 11141), ('rationing', 11141)]\n",
      "Accuracy: 0.91\n",
      "Precision macro: 0.91\n",
      "Recall macro: 0.91\n",
      "No. of terms after rfe: 100\n"
     ]
    }
   ],
   "source": [
    "# RFE\n",
    "rfe_data = improved_data.copy()\n",
    "rfe_tfidf_matrix = tm.build_tfidf_matrix(\n",
    "    list(rfe_data.Article))\n",
    "rfe_reduced_tfidf_matrix = tm.rfe_selection(\n",
    "    dt_clf, rfe_tfidf_matrix, y, n=100, step=2)\n",
    "rfe_tfidf_scores = tm.crossvalidate_model(\n",
    "    dt_clf, rfe_reduced_tfidf_matrix, y)\n",
    "print(\"No. of terms after rfe:\", \n",
    "      rfe_reduced_tfidf_matrix.shape[1])"
   ]
  },
  {
   "cell_type": "code",
   "execution_count": 15,
   "id": "a8f3514b",
   "metadata": {},
   "outputs": [
    {
     "data": {
      "text/plain": [
       "({'criterion': 'gini',\n",
       "  'max_depth': 3,\n",
       "  'min_impurity_decrease': 0.01,\n",
       "  'min_samples_leaf': 5,\n",
       "  'min_samples_split': 2},\n",
       " 0.9555555555555555)"
      ]
     },
     "execution_count": 15,
     "metadata": {},
     "output_type": "execute_result"
    }
   ],
   "source": [
    "\n",
    "\n",
    "tm.search_optimal_params(dt_clf, rfe_reduced_tfidf_matrix,\n",
    "                        y, params)"
   ]
  },
  {
   "cell_type": "code",
   "execution_count": 17,
   "id": "cbcd6fd0",
   "metadata": {},
   "outputs": [
    {
     "name": "stdout",
     "output_type": "stream",
     "text": [
      "Accuracy: 0.96\n",
      "Precision macro: 0.96\n",
      "Recall macro: 0.96\n"
     ]
    }
   ],
   "source": [
    "## change the params of the DT to the optimal ones above\n",
    "opt_tfidf_clf = DecisionTreeClassifier(random_state=1,\n",
    "                                      criterion='gini',\n",
    "                                      max_depth=3,\n",
    "                                      min_impurity_decrease=0.01,\n",
    "                                      min_samples_split=2,\n",
    "                                      min_samples_leaf=5)\n",
    "\n",
    "## retrain and get performance\n",
    "opt_tfidf_scores = tm.crossvalidate_model(opt_tfidf_clf,\n",
    "                                         rfe_reduced_tfidf_matrix,\n",
    "                                         y)"
   ]
  },
  {
   "cell_type": "code",
   "execution_count": 11,
   "id": "95390d2d",
   "metadata": {},
   "outputs": [
    {
     "name": "stdout",
     "output_type": "stream",
     "text": [
      "('DC', 103.04304351383176)\n",
      "('Batman', 89.88744180615656)\n",
      "('Superman', 77.94561663486404)\n",
      "('Wonder', 42.48320481800983)\n",
      "('Marvel', 35.36081085733576)\n",
      "('NBA', 34.743470546656326)\n",
      "('Woman', 34.28310463091443)\n",
      "('Captain', 28.253974264748138)\n",
      "('Lantern', 26.819260183295523)\n",
      "('Hulk', 21.54085049058878)\n",
      "('comic', 21.52173577047774)\n",
      "('season', 21.131095662344254)\n",
      "('America', 20.951227343357562)\n",
      "('Spider-Man', 20.492595398935897)\n",
      "('Comics', 19.348798873495035)\n",
      "('Justice', 17.908332503163283)\n",
      "('League', 17.13915578905292)\n",
      "('Green', 16.85510313042924)\n",
      "('last', 16.54938577353703)\n",
      "('X-Men', 16.214625664916795)\n",
      "('league', 16.183313187943046)\n",
      "('Thor', 15.987526941577178)\n",
      "('Steel', 15.866293485277316)\n",
      "('Gotham', 15.579147117217115)\n",
      "('character', 15.06636697356377)\n",
      "('Detective', 14.99177720496389)\n",
      "('characters', 14.747154536937948)\n",
      "('Kent', 14.493629154184667)\n",
      "('Doctor', 14.382853611378424)\n",
      "('Iron', 14.17445302612868)\n",
      "('Avengers', 13.985853757999102)\n",
      "('Strange', 13.757362245129684)\n",
      "('players', 13.221265487024437)\n",
      "('Flash', 13.161290543922677)\n",
      "('book', 13.145619401586387)\n",
      "('offensive', 12.977430525832853)\n",
      "('Grayson', 12.951158004258769)\n",
      "('War', 12.677294104626949)\n",
      "('Dick', 12.543482505755438)\n",
      "('mutant', 12.43152002118588)\n",
      "('Durant', 12.403067186180133)\n",
      "('Dark', 12.355772280226699)\n",
      "('game', 12.342806029647033)\n",
      "('LeBron', 12.338855400315417)\n",
      "('per', 12.252144157210193)\n",
      "('career', 11.959974821495372)\n",
      "('Galactus', 11.733473089241437)\n",
      "('scorer', 11.63917169649363)\n",
      "('superhero', 11.599575170178685)\n",
      "('Universe', 11.236314906143438)\n",
      "('Clark', 11.223445216071271)\n",
      "('basketball', 11.19964427224918)\n",
      "('Daredevil', 11.047903476141022)\n",
      "('Fantastic', 10.976806920020419)\n",
      "('Wolverine', 10.89657891965197)\n",
      "('Guardians', 10.895862445062644)\n",
      "('Returns', 10.748508386904504)\n",
      "('points', 10.737934930100382)\n",
      "('Scott', 10.652428379135795)\n",
      "('Jonathan', 10.624732965638685)\n",
      "('story', 10.56376875097707)\n",
      "('X', 10.546138341137505)\n",
      "('that', 10.545262145196286)\n",
      "('James', 10.54525467885196)\n",
      "('Panther', 10.525321399670545)\n",
      "('Harden', 10.50777329882481)\n",
      "('scoring', 10.462380545946322)\n",
      "('shooting', 10.443041149379937)\n",
      "('Nets', 10.427716138881285)\n",
      "('player', 10.406419084218523)\n",
      "('Hickman', 10.374473549974317)\n",
      "('Joker', 10.314499645142341)\n",
      "('Morrison', 10.074132286215775)\n",
      "('Man', 9.975628112300619)\n",
      "('Davis', 9.927743270965996)\n",
      "('Amazing', 9.743921763505215)\n",
      "('Surfer', 9.662022759129226)\n",
      "('championship', 9.655650290707158)\n",
      "('Snyder', 9.594910964027498)\n",
      "('Infinite', 9.539662110484775)\n",
      "('Alan', 9.489462819531225)\n",
      "('guard', 9.413819738415606)\n",
      "('Hal', 9.363115441533274)\n",
      "('Geoff', 9.337093629941917)\n",
      "('Johns', 9.285498001486232)\n",
      "('Civil', 9.229497504487389)\n",
      "('52', 9.218946576600569)\n",
      "('Wayne', 9.106955909090248)\n",
      "('efficient', 9.101075801551495)\n",
      "('Corps', 9.054178947480258)\n",
      "Accuracy: 0.92\n",
      "Precision macro: 0.93\n",
      "Recall macro: 0.92\n",
      "No. of terms after applying anova feature selection: 90\n"
     ]
    }
   ],
   "source": [
    "## Univariate Feature Selection\n",
    "uni_data = improved_data.copy()\n",
    "uni_tfidf_matrix = tm.build_tfidf_matrix(\n",
    "    list(uni_data.Article))\n",
    "uni_reduced_tfidf_matrix = tm.univariate_selection(\n",
    "    uni_tfidf_matrix, uni_data.Class, scheme=f_classif)\n",
    "uni_reduced_tfidf_scores = tm.crossvalidate_model(\n",
    "    dt_clf, uni_reduced_tfidf_matrix, y)\n",
    "print(\"No. of terms after applying anova feature selection:\", \n",
    "      uni_reduced_tfidf_matrix.shape[0])"
   ]
  },
  {
   "cell_type": "code",
   "execution_count": 12,
   "id": "050e8231",
   "metadata": {},
   "outputs": [
    {
     "data": {
      "text/plain": [
       "({'criterion': 'gini',\n",
       "  'max_depth': 3,\n",
       "  'min_impurity_decrease': 0.01,\n",
       "  'min_samples_leaf': 3,\n",
       "  'min_samples_split': 2},\n",
       " 0.9222222222222223)"
      ]
     },
     "execution_count": 12,
     "metadata": {},
     "output_type": "execute_result"
    }
   ],
   "source": [
    "## Hyperparameter Tuning\n",
    "params = {\n",
    "    \"criterion\": ['gini', 'entropy'],\n",
    "    \"max_depth\": range(3, 16),\n",
    "    \"min_samples_split\": range(2, 16),\n",
    "    \"min_samples_leaf\": range(3, 10),\n",
    "    \"min_impurity_decrease\": [0.01, 0.02, 0.03, 0.04, 0.05]\n",
    "}\n",
    "\n",
    "tm.search_optimal_params(dt_clf, uni_reduced_tfidf_matrix,\n",
    "                        y, params)"
   ]
  },
  {
   "cell_type": "code",
   "execution_count": 13,
   "id": "d3571478",
   "metadata": {},
   "outputs": [
    {
     "name": "stdout",
     "output_type": "stream",
     "text": [
      "Accuracy: 0.92\n",
      "Precision macro: 0.93\n",
      "Recall macro: 0.92\n"
     ]
    }
   ],
   "source": [
    "## change the params of the DT to the optimal ones above\n",
    "opt_tfidf_clf = DecisionTreeClassifier(random_state=1,\n",
    "                                      criterion='gini',\n",
    "                                      max_depth=3,\n",
    "                                      min_impurity_decrease=0.01,\n",
    "                                      min_samples_split=2,\n",
    "                                      min_samples_leaf=3)\n",
    "\n",
    "## retrain and get performance\n",
    "opt_tfidf_scores = tm.crossvalidate_model(opt_tfidf_clf,\n",
    "                                         uni_reduced_tfidf_matrix,\n",
    "                                         y)"
   ]
  },
  {
   "cell_type": "code",
   "execution_count": null,
   "id": "c8739bf0",
   "metadata": {},
   "outputs": [],
   "source": []
  },
  {
   "cell_type": "code",
   "execution_count": null,
   "id": "06beaadc",
   "metadata": {},
   "outputs": [],
   "source": []
  }
 ],
 "metadata": {
  "kernelspec": {
   "display_name": "Python 3 (ipykernel)",
   "language": "python",
   "name": "python3"
  },
  "language_info": {
   "codemirror_mode": {
    "name": "ipython",
    "version": 3
   },
   "file_extension": ".py",
   "mimetype": "text/x-python",
   "name": "python",
   "nbconvert_exporter": "python",
   "pygments_lexer": "ipython3",
   "version": "3.8.1"
  }
 },
 "nbformat": 4,
 "nbformat_minor": 5
}
